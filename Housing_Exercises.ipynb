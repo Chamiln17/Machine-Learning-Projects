{
 "cells": [
  {
   "cell_type": "markdown",
   "id": "fdccec4b-e895-4992-96ca-082d94ef73ab",
   "metadata": {},
   "source": [
    "you can skip the following since it's just dataset preprocessing"
   ]
  },
  {
   "cell_type": "code",
   "execution_count": null,
   "id": "bd8d4279-3fbc-4eaa-947c-d6a437d02a9a",
   "metadata": {},
   "outputs": [],
   "source": [
    "import os\n",
    "import tarfile\n",
    "import urllib\n",
    "DOWNLOAD_ROOT = \"https://raw.githubusercontent.com/ageron/handson-ml2/master/\"\n",
    "HOUSING_PATH = os.path.join(\"datasets\", \"housing\")\n",
    "HOUSING_URL = DOWNLOAD_ROOT + \"datasets/housing/housing.tgz\"\n",
    "def fetch_housing_data(housing_url=HOUSING_URL, housing_path=HOUSING_PATH):\n",
    " os.makedirs(housing_path, exist_ok=True)\n",
    " tgz_path = os.path.join(housing_path, \"housing.tgz\")\n",
    " urllib.request.urlretrieve(housing_url, tgz_path)\n",
    " housing_tgz = tarfile.open(tgz_path)\n",
    " housing_tgz.extractall(path=housing_path)\n",
    " housing_tgz.close()"
   ]
  },
  {
   "cell_type": "code",
   "execution_count": null,
   "id": "2713f792-3401-480d-ad8d-f99c97e08ad2",
   "metadata": {},
   "outputs": [],
   "source": [
    "import pandas as pd\n",
    "import numpy as np\n",
    "def load_housing_data(housing_path=HOUSING_PATH):\n",
    " csv_path = os.path.join(housing_path, \"housing.csv\")\n",
    " return pd.read_csv(csv_path)"
   ]
  },
  {
   "cell_type": "code",
   "execution_count": null,
   "id": "52bb81b1-ffa2-454f-922c-c299713ac71f",
   "metadata": {},
   "outputs": [],
   "source": [
    "fetch_housing_data() #fetching data\n",
    "housing = load_housing_data()"
   ]
  },
  {
   "cell_type": "code",
   "execution_count": null,
   "id": "21cbc45c-6a98-4c63-ae7d-a946a1707c8f",
   "metadata": {},
   "outputs": [],
   "source": [
    "from sklearn.model_selection import train_test_split\n",
    "train_set, test_set = train_test_split(housing, test_size=0.2, random_state=42)"
   ]
  },
  {
   "cell_type": "code",
   "execution_count": null,
   "id": "5c839ef7-da75-4f0f-acb3-331cbb59948e",
   "metadata": {},
   "outputs": [],
   "source": [
    "housing[\"income_cat\"] = pd.cut(housing[\"median_income\"],\n",
    " bins=[0., 1.5, 3.0, 4.5, 6., np.inf],\n",
    " labels=[1, 2, 3, 4, 5])"
   ]
  },
  {
   "cell_type": "code",
   "execution_count": null,
   "id": "9f93f88d-de20-4e12-98eb-e70c629d94d1",
   "metadata": {},
   "outputs": [],
   "source": [
    "from sklearn.model_selection import StratifiedShuffleSplit\n",
    "split = StratifiedShuffleSplit(n_splits=1, test_size=0.2, random_state=42)\n",
    "for train_index, test_index in split.split(housing, housing[\"income_cat\"]):\n",
    " strat_train_set = housing.loc[train_index]\n",
    " strat_test_set = housing.loc[test_index]"
   ]
  },
  {
   "cell_type": "code",
   "execution_count": null,
   "id": "d2a637e1-ec53-4f29-830f-ea298bb3b50b",
   "metadata": {},
   "outputs": [],
   "source": [
    "for set_ in (strat_train_set, strat_test_set):\n",
    " set_.drop(\"income_cat\", axis=1, inplace=True)"
   ]
  },
  {
   "cell_type": "code",
   "execution_count": null,
   "id": "3ea6d124-f715-4190-a8eb-1c38d122c384",
   "metadata": {},
   "outputs": [],
   "source": [
    "housing = strat_train_set.drop(\"median_house_value\", axis=1)\n",
    "housing_labels = strat_train_set[\"median_house_value\"].copy()"
   ]
  },
  {
   "cell_type": "markdown",
   "id": "f161e874",
   "metadata": {},
   "source": [
    "## Custom Transformers"
   ]
  },
  {
   "cell_type": "markdown",
   "id": "44f8c54d",
   "metadata": {},
   "source": [
    "Let's create a custom Transfomer"
   ]
  },
  {
   "cell_type": "code",
   "execution_count": null,
   "id": "83e93f41",
   "metadata": {},
   "outputs": [],
   "source": [
    "from sklearn.base import BaseEstimator, TransformerMixin\n",
    "col_names = \"total_rooms\", \"total_bedrooms\", \"population\", \"households\"\n",
    "rooms_ix, bedrooms_ix, population_ix, households_ix = [housing.columns.get_loc(c) for c in col_names] ## dynamic name extraction\n",
    "\n",
    "class CombinedAttributesAdder(BaseEstimator, TransformerMixin):\n",
    "    def __init__(self, add_bedrooms_per_room = True): # no *args or **kargs , hyperparameters\n",
    "        self.add_bedrooms_per_room = add_bedrooms_per_room\n",
    "    def fit(self, X, y=None):\n",
    "        return self # nothing else to do\n",
    "    def transform(self, X):\n",
    "        rooms_per_household = X[:, rooms_ix] / X[:, households_ix]\n",
    "        population_per_household = X[:, population_ix] / X[:, households_ix]\n",
    "        if self.add_bedrooms_per_room:\n",
    "            bedrooms_per_room = X[:, bedrooms_ix] / X[:, rooms_ix]\n",
    "            return np.c_[X, rooms_per_household, population_per_household,bedrooms_per_room]\n",
    "        else:\n",
    "            return np.c_[X, rooms_per_household, population_per_household]\n",
    "attr_adder = CombinedAttributesAdder(add_bedrooms_per_room=False)\n",
    "housing_extra_attribs = attr_adder.transform(housing.values)\n",
    "housing.values"
   ]
  },
  {
   "cell_type": "markdown",
   "id": "b577730f",
   "metadata": {},
   "source": [
    "The previous code create a transformer that create different new features using the BaseEstimator and TransformMixin functions"
   ]
  },
  {
   "cell_type": "markdown",
   "id": "8afa3100-3b47-40ef-b4e1-0bd3f1bbff40",
   "metadata": {},
   "source": [
    "## Transfomation Pipline"
   ]
  },
  {
   "cell_type": "code",
   "execution_count": null,
   "id": "8d3de89e-9bf9-4487-b580-6eb1480fa195",
   "metadata": {},
   "outputs": [],
   "source": [
    "from sklearn.pipeline import Pipeline\n",
    "from sklearn.impute import SimpleImputer\n",
    "from sklearn.preprocessing import StandardScaler\n",
    "\n",
    "housing_num = housing.drop(\"ocean_proximity\", axis=1)\n",
    "\n",
    "\n",
    "num_pipeline = Pipeline([\n",
    " ('imputer', SimpleImputer(strategy=\"median\")),\n",
    " ('attribs_adder', CombinedAttributesAdder()),\n",
    " ('std_scaler', StandardScaler()),\n",
    " ])\n",
    "housing_num_tr = num_pipeline.fit_transform(housing_num)"
   ]
  },
  {
   "cell_type": "markdown",
   "id": "851cf967",
   "metadata": {},
   "source": [
    "There is a way to both treat numerical and categorical data in one shot "
   ]
  },
  {
   "cell_type": "code",
   "execution_count": null,
   "id": "b5c84223",
   "metadata": {},
   "outputs": [],
   "source": [
    "from sklearn.compose import ColumnTransformer\n",
    "from sklearn.preprocessing import OneHotEncoder\n",
    "\n",
    "num_attribs = list(housing_num)\n",
    "cat_attribs = [\"ocean_proximity\"]\n",
    "full_pipeline = ColumnTransformer([\n",
    " (\"num\", num_pipeline, num_attribs),\n",
    " (\"cat\", OneHotEncoder(), cat_attribs),\n",
    " ])\n",
    "housing_prepared = full_pipeline.fit_transform(housing)\n"
   ]
  },
  {
   "cell_type": "markdown",
   "id": "93bb2148-5aef-47e9-9242-974efd1b37c6",
   "metadata": {},
   "source": [
    "## 1- Using SVM model on the data "
   ]
  },
  {
   "cell_type": "code",
   "execution_count": null,
   "id": "3b0057f9-e802-45ea-a5a7-6e6c46abcf48",
   "metadata": {},
   "outputs": [],
   "source": [
    "### GridSearchCV"
   ]
  },
  {
   "cell_type": "markdown",
   "id": "2f84e30d-b4f5-4263-a098-9bfed64aecc6",
   "metadata": {},
   "source": [
    "Using the SVR estimator"
   ]
  },
  {
   "cell_type": "code",
   "execution_count": null,
   "id": "cda89ccd-aeb8-43eb-8b8a-eaa8535f7a18",
   "metadata": {},
   "outputs": [],
   "source": [
    "from sklearn.svm import SVR\n",
    "from sklearn.model_selection import GridSearchCV \n",
    "\n",
    "SVR_reg= SVR()\n",
    "params= [\n",
    "  {'C': [1, 10, 100, 1000], 'kernel': ['linear']},\n",
    "  {'C': [1, 10, 100, 1000], 'gamma': [0.001, 0.0001], 'kernel': ['rbf']},\n",
    " ]\n",
    "svm_grid_search = GridSearchCV(SVR_reg,params, cv=5 ,scoring=\"neg_mean_squared_error\",return_train_score=True)"
   ]
  },
  {
   "cell_type": "code",
   "execution_count": null,
   "id": "c0d45daf-c08b-4718-bafc-a2fc5a951b55",
   "metadata": {},
   "outputs": [],
   "source": [
    "svm_grid_search.fit(housing_prepared, housing_labels)"
   ]
  },
  {
   "cell_type": "code",
   "execution_count": null,
   "id": "de87fb63-66d0-40b0-a4f0-c2db862b1142",
   "metadata": {},
   "outputs": [],
   "source": [
    "svm_grid_search.best_params_"
   ]
  },
  {
   "cell_type": "code",
   "execution_count": null,
   "id": "2b6f3861-3f72-4502-b7cb-42636392475f",
   "metadata": {},
   "outputs": [],
   "source": [
    "svm_grid_search.best_estimator_"
   ]
  },
  {
   "cell_type": "code",
   "execution_count": null,
   "id": "ffa812a8-d81a-4fee-9d94-2242be5f2149",
   "metadata": {},
   "outputs": [],
   "source": [
    " cvres = svm_grid_search.cv_results_\n",
    "for mean_score, params in zip(cvres[\"mean_test_score\"], cvres[\"params\"]):\n",
    "    print(np.sqrt(-mean_score), params)"
   ]
  },
  {
   "cell_type": "markdown",
   "id": "3575db01-c514-421f-bf78-d8b7f50e7ff1",
   "metadata": {},
   "source": [
    "As we can see the best result given by the SVR estimator gives a 70369 RMSE error"
   ]
  },
  {
   "cell_type": "markdown",
   "id": "63877380-2a41-4089-ae6f-1f7128fa1463",
   "metadata": {},
   "source": [
    "### RandomizedSearchCV"
   ]
  },
  {
   "cell_type": "code",
   "execution_count": null,
   "id": "a93791ef-8d68-4abb-b605-1648087684d1",
   "metadata": {},
   "outputs": [],
   "source": [
    "from sklearn.model_selection import RandomizedSearchCV\n",
    "random_search = RandomizedSearchCV(SVR_reg,params, cv=5 ,scoring=\"neg_mean_squared_error\",return_train_score=True)"
   ]
  },
  {
   "cell_type": "code",
   "execution_count": null,
   "id": "b5140365-5ce8-46b1-8024-e5a8bf043ecd",
   "metadata": {},
   "outputs": [],
   "source": [
    "random_search.best_params"
   ]
  },
  {
   "cell_type": "code",
   "execution_count": null,
   "id": "c629fc90-9ed3-4ca8-b99f-611562a28885",
   "metadata": {},
   "outputs": [],
   "source": [
    "random_search.best_estimator_"
   ]
  },
  {
   "cell_type": "code",
   "execution_count": null,
   "id": "fe57cf34-81b4-41f9-a90f-aacd4968743d",
   "metadata": {},
   "outputs": [],
   "source": [
    " cvres = random_search.cv_results_\n",
    "for mean_score, params in zip(cvres[\"mean_test_score\"], cvres[\"params\"]):\n",
    "    print(np.sqrt(-mean_score), params)"
   ]
  },
  {
   "cell_type": "code",
   "execution_count": null,
   "id": "3340bdef-f4f1-40e9-b4b2-312903d39aee",
   "metadata": {},
   "outputs": [],
   "source": []
  }
 ],
 "metadata": {
  "kernelspec": {
   "display_name": "Python 3 (ipykernel)",
   "language": "python",
   "name": "python3"
  },
  "language_info": {
   "codemirror_mode": {
    "name": "ipython",
    "version": 3
   },
   "file_extension": ".py",
   "mimetype": "text/x-python",
   "name": "python",
   "nbconvert_exporter": "python",
   "pygments_lexer": "ipython3",
   "version": "3.11.4"
  }
 },
 "nbformat": 4,
 "nbformat_minor": 5
}
